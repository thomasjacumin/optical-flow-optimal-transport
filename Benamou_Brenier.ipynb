{
 "cells": [
  {
   "cell_type": "markdown",
   "metadata": {
    "id": "WtjUxLtExMm6"
   },
   "source": [
    "---\n",
    "# Formule de Benamou-Brenier\n",
    "---\n",
    "\n"
   ]
  },
  {
   "cell_type": "markdown",
   "metadata": {
    "id": "bvISFLWEyDwr"
   },
   "source": [
    "## Discrétisation du gradient et de la divergence"
   ]
  },
  {
   "cell_type": "markdown",
   "metadata": {
    "id": "-Z92oIYU7Mi7"
   },
   "source": [
    "On utilise les différences finies : en $x$, on pose $dx := x_{i+1} - x_i$ supposé constant pour tout $i$,\n",
    "\n",
    "$$ \\partial_x f(x_i, y_i) \\approx \\frac{f(x_{i+1}, y_i)-f(x_i, y_i)}{dx}, $$\n",
    "\n",
    "$$ \\partial_x f(x_i, y_i) \\approx \\frac{f(x_i, y_i)-f(x_{i-1}, y_i)}{dx}, $$\n",
    "\n",
    "$$ \\partial_x f(x_i, y_i) \\approx \\frac{f(x_{i+1}, y_i)-f(x_{i-1}, y_i)}{2dx}. $$\n",
    "\n",
    "Idem en $y$ avec $dy$ ou en $t$ avec $dt$.\n"
   ]
  },
  {
   "cell_type": "code",
   "execution_count": 1,
   "metadata": {
    "id": "I7EIetCnyXcG"
   },
   "outputs": [],
   "source": [
    "dt = 1#./Nt\n",
    "dx = 1#./Nx\n",
    "dy = 1#./Ny"
   ]
  },
  {
   "cell_type": "code",
   "execution_count": 2,
   "metadata": {
    "id": "8wO7AtvHyXPW"
   },
   "outputs": [],
   "source": [
    "def spaceTimeDiv(u):\n",
    "  gradTU = np.zeros(Nt*Nx*Ny)\n",
    "  for n in range(Nt):\n",
    "    for y in range(Ny):\n",
    "      for x in range(Nx):\n",
    "        if n > 0 and n < Nt-1:\n",
    "          gradTU[n*Nx*Ny+y*Nx+x] = 0.5*(u[0, (n+1)*Nx*Ny+y*Nx+x] - u[0, (n-1)*Nx*Ny+y*Nx+x])\n",
    "        elif n == 0:\n",
    "          gradTU[n*Nx*Ny+y*Nx+x] = u[0, (n+1)*Nx*Ny+y*Nx+x] - u[0, (n)*Nx*Ny+y*Nx+x]\n",
    "        elif n == Nt-1:\n",
    "          gradTU[n*Nx*Ny+y*Nx+x] = u[0, (n)*Nx*Ny+y*Nx+x] - u[0, (n-1)*Nx*Ny+y*Nx+x]\n",
    "\n",
    "  gradXU = np.zeros(Nt*Nx*Ny)\n",
    "  for n in range(Nt):\n",
    "    for y in range(Ny):\n",
    "      for x in range(Nx):\n",
    "        if x > 0 and x < Nx-1:\n",
    "          gradXU[n*Nx*Ny+y*Nx+x] = 0.5*(u[1, n*Nx*Ny+y*Nx+x+1] - u[1, n*Nx*Ny+y*Nx+x-1])\n",
    "        elif x == 0:\n",
    "          gradXU[n*Nx*Ny+y*Nx+x] = u[1, n*Nx*Ny+y*Nx+x+1] - u[1, n*Nx*Ny+y*Nx+x]\n",
    "        elif x == Nx-1:\n",
    "          gradXU[n*Nx*Ny+y*Nx+x] = u[1, n*Nx*Ny+y*Nx+x] - u[1, n*Nx*Ny+y*Nx+x-1]\n",
    "\n",
    "  gradYU = np.zeros(Nt*Nx*Ny)\n",
    "  for n in range(Nt):\n",
    "    for y in range(Ny):\n",
    "      for x in range(Nx):\n",
    "        if y > 0 and y < Ny-1:\n",
    "          gradYU[n*Nx*Ny+y*Nx+x] = 0.5*(u[2, n*Nx*Ny+(y+1)*Nx+x] - u[2, n*Nx*Ny+(y-1)*Nx+x])\n",
    "        elif y == 0:\n",
    "          gradYU[n*Nx*Ny+y*Nx+x] = u[2, n*Nx*Ny+(y+1)*Nx+x] - u[2, n*Nx*Ny+y*Nx+x]\n",
    "        elif y == Ny-1:\n",
    "          gradYU[n*Nx*Ny+y*Nx+x] = u[2, n*Nx*Ny+y*Nx+x] - u[2, n*Nx*Ny+(y-1)*Nx+x]\n",
    "\n",
    "  return 1./dt*gradTU + 1./dx*gradXU + 1./dy*gradYU"
   ]
  },
  {
   "cell_type": "code",
   "execution_count": 3,
   "metadata": {
    "id": "kHAdj_moyTwL"
   },
   "outputs": [],
   "source": [
    "def spaceTimeGrad(u):\n",
    "  gradTU = np.zeros(Nt*Nx*Ny)\n",
    "  for n in range(Nt):\n",
    "    for y in range(Ny):\n",
    "      for x in range(Nx):\n",
    "        if n > 0 and n < Nt-1:\n",
    "          gradTU[n*Nx*Ny+y*Nx+x] = 0.5*(u[(n+1)*Nx*Ny+y*Nx+x] - u[(n-1)*Nx*Ny+y*Nx+x])\n",
    "        elif n == 0:\n",
    "          gradTU[n*Nx*Ny+y*Nx+x] = u[(n+1)*Nx*Ny+y*Nx+x] - u[(n)*Nx*Ny+y*Nx+x]\n",
    "        elif n == Nt-1:\n",
    "          gradTU[n*Nx*Ny+y*Nx+x] = u[(n)*Nx*Ny+y*Nx+x] - u[(n-1)*Nx*Ny+y*Nx+x]\n",
    "\n",
    "  gradXU = np.zeros(Nt*Nx*Ny)\n",
    "  for n in range(Nt):\n",
    "    for y in range(Ny):\n",
    "      for x in range(Nx):\n",
    "        if x > 0 and x < Nx-1:\n",
    "          gradXU[n*Nx*Ny+y*Nx+x] = 0.5*(u[n*Nx*Ny+y*Nx+x+1] - u[n*Nx*Ny+y*Nx+x-1])\n",
    "        elif x == 0:\n",
    "          gradXU[n*Nx*Ny+y*Nx+x] = u[n*Nx*Ny+y*Nx+x+1] - u[n*Nx*Ny+y*Nx+x]\n",
    "        elif x == Nx-1:\n",
    "          gradXU[n*Nx*Ny+y*Nx+x] = u[n*Nx*Ny+y*Nx+x] - u[n*Nx*Ny+y*Nx+x-1]\n",
    "\n",
    "  gradYU = np.zeros(Nt*Nx*Ny)\n",
    "  for n in range(Nt):\n",
    "    for y in range(Ny):\n",
    "      for x in range(Nx):\n",
    "        if y > 0 and y < Ny-1:\n",
    "          gradYU[n*Nx*Ny+y*Nx+x] = 0.5*(u[n*Nx*Ny+(y+1)*Nx+x] - u[n*Nx*Ny+(y-1)*Nx+x])\n",
    "        elif y == 0:\n",
    "          gradYU[n*Nx*Ny+y*Nx+x] = u[n*Nx*Ny+(y+1)*Nx+x] - u[n*Nx*Ny+y*Nx+x]\n",
    "        elif y == Ny-1:\n",
    "          gradYU[n*Nx*Ny+y*Nx+x] = u[n*Nx*Ny+y*Nx+x] - u[n*Nx*Ny+(y-1)*Nx+x]\n",
    "\n",
    "  return np.array([1./dt*gradTU, 1./dx*gradXU, 1./dy*gradYU])"
   ]
  },
  {
   "cell_type": "markdown",
   "metadata": {
    "id": "xe88LzkVxa31"
   },
   "source": [
    "## Etape 1"
   ]
  },
  {
   "cell_type": "markdown",
   "metadata": {
    "id": "6s5M48pMJXXy"
   },
   "source": [
    "On discrétise l'équation forte en utilisant encore les différences finies :\n",
    "$$ \\partial_{xx}f(x_i, y_i) \\approx \\frac{f(x_{i+1},y_i) + f(x_{i-1},y_i) - 2f(x_i,y_i)}{dx^2}. $$\n",
    "Idem en $y$ ou en $t$.\n",
    "\n",
    "L'utilisation des différences finies sur l'équation nous permet de mettre l'équation discrétisée sous la forme $$ A x = b,  $$.\n",
    "\n",
    "PS: désolé, j'ai construit la matrice à la main et en utilisant des matrices \"sparses\" donc le code n'est pas vraiement lisible..."
   ]
  },
  {
   "cell_type": "code",
   "execution_count": 10,
   "metadata": {
    "id": "0clJe8n-xipE"
   },
   "outputs": [],
   "source": [
    "def step1(gamma, q, mu, nu):\n",
    "  epsilon = 0.001\n",
    "\n",
    "  spaceTimeDivSM = spaceTimeDiv(gamma-r*q)\n",
    "\n",
    "  F = np.zeros(Nt*Nx*Ny)\n",
    "  Av = []\n",
    "  Ax = []\n",
    "  Ay = []\n",
    "  for n in range(Nt):\n",
    "    for y in range(Ny):\n",
    "      for x in range(Nx):\n",
    "        # Not on boundaries (space and time)\n",
    "        if n>=1 and n<Nt-1 and y>=1 and y<Ny-1 and x>=1 and x<Nx-1:\n",
    "          # A[n*Nx*Ny+y*Nx+x, (n+1)*Nx*Ny+y*Nx+x] = -r*1./dt**2\n",
    "          Ax.append(n*Nx*Ny+y*Nx+x)\n",
    "          Ay.append((n+1)*Nx*Ny+y*Nx+x)\n",
    "          Av.append(-r*1./dt**2)\n",
    "          # A[n*Nx*Ny+y*Nx+x, (n-1)*Nx*Ny+y*Nx+x] = -r*1./dt**2\n",
    "          Ax.append(n*Nx*Ny+y*Nx+x)\n",
    "          Ay.append((n-1)*Nx*Ny+y*Nx+x)\n",
    "          Av.append(-r*1./dt**2)\n",
    "          # A[n*Nx*Ny+y*Nx+x, n*Nx*Ny+y*Nx+x+1] = -r*1./dx**2\n",
    "          Ax.append(n*Nx*Ny+y*Nx+x)\n",
    "          Ay.append(n*Nx*Ny+y*Nx+x+1)\n",
    "          Av.append(-r*1./dx**2)\n",
    "          # A[n*Nx*Ny+y*Nx+x, n*Nx*Ny+y*Nx+x-1] = -r*1./dx**2\n",
    "          Ax.append(n*Nx*Ny+y*Nx+x)\n",
    "          Ay.append(n*Nx*Ny+y*Nx+x-1)\n",
    "          Av.append(-r*1./dx**2)\n",
    "          # A[n*Nx*Ny+y*Nx+x, n*Nx*Ny+(y+1)*Nx+x] = -r*1./dy**2\n",
    "          Ax.append(n*Nx*Ny+y*Nx+x)\n",
    "          Ay.append(n*Nx*Ny+(y+1)*Nx+x)\n",
    "          Av.append(-r*1./dy**2)\n",
    "          # A[n*Nx*Ny+y*Nx+x, n*Nx*Ny+(y-1)*Nx+x] = -r*1./dy**2\n",
    "          Ax.append(n*Nx*Ny+y*Nx+x)\n",
    "          Ay.append(n*Nx*Ny+(y-1)*Nx+x)\n",
    "          Av.append(-r*1./dy**2)\n",
    "          # A[n*Nx*Ny+y*Nx+x, n*Nx*Ny+y*Nx+x] = -r*(-2./dt**2 - 2./dx**2 - 2./dy**2) + r*epsilon\n",
    "          Ax.append(n*Nx*Ny+y*Nx+x)\n",
    "          Ay.append(n*Nx*Ny+y*Nx+x)\n",
    "          Av.append(-r*(-2./dt**2 - 2./dx**2 - 2./dy**2) + r*epsilon)\n",
    "\n",
    "          F[n*Nx*Ny+y*Nx+x] = spaceTimeDivSM[n*Nx*Ny+y*Nx+x]\n",
    "        else:\n",
    "          # Neumann in time\n",
    "          if n == 0:\n",
    "            # A[n*Nx*Ny+y*Nx+x, (n+1)*Nx*Ny+y*Nx+x] = -r*1./dt**2\n",
    "            Ax.append(n*Nx*Ny+y*Nx+x)\n",
    "            Ay.append((n+1)*Nx*Ny+y*Nx+x)\n",
    "            Av.append(-r*1./dt**2)\n",
    "\n",
    "            F[n*Nx*Ny+y*Nx+x] = spaceTimeDivSM[n*Nx*Ny+y*Nx+x] - 1/dt*(mu[y*Nx+x]-gamma[0,(0)*Nx*Ny+y*Nx+x]+r*q[0,(0)*Nx*Ny+y*Nx+x])\n",
    "\n",
    "            # Not on space boundaries\n",
    "            if y>=1 and y<Ny-1 and x>=1 and x<Nx-1:\n",
    "              # A[n*Nx*Ny+y*Nx+x, n*Nx*Ny+y*Nx+x+1] = -r*1./dx**2\n",
    "              Ax.append(n*Nx*Ny+y*Nx+x)\n",
    "              Ay.append(n*Nx*Ny+y*Nx+x+1)\n",
    "              Av.append(-r*1./dx**2)\n",
    "              # A[n*Nx*Ny+y*Nx+x, n*Nx*Ny+y*Nx+x-1] = -r*1./dx**2\n",
    "              Ax.append(n*Nx*Ny+y*Nx+x)\n",
    "              Ay.append(n*Nx*Ny+y*Nx+x-1)\n",
    "              Av.append(-r*1./dx**2)\n",
    "              # A[n*Nx*Ny+y*Nx+x, n*Nx*Ny+(y+1)*Nx+x] = -r*1./dy**2\n",
    "              Ax.append(n*Nx*Ny+y*Nx+x)\n",
    "              Ay.append(n*Nx*Ny+(y+1)*Nx+x)\n",
    "              Av.append(-r*1./dy**2)\n",
    "              # A[n*Nx*Ny+y*Nx+x, n*Nx*Ny+(y-1)*Nx+x] = -r*1./dy**2\n",
    "              Ax.append(n*Nx*Ny+y*Nx+x)\n",
    "              Ay.append(n*Nx*Ny+(y-1)*Nx+x)\n",
    "              Av.append(-r*1./dy**2)\n",
    "              # A[n*Nx*Ny+y*Nx+x, n*Nx*Ny+y*Nx+x] = -r*(-2./dt**2 - 2./dx**2 - 2./dy**2) + r*epsilon +r*1./dt**2\n",
    "              Ax.append(n*Nx*Ny+y*Nx+x)\n",
    "              Ay.append(n*Nx*Ny+y*Nx+x)\n",
    "              Av.append(-r*(-2./dt**2 - 2./dx**2 - 2./dy**2) + r*epsilon - r*1./dt**2)\n",
    "            else:\n",
    "              if x == 0:\n",
    "                if y == 0: # top-left corner\n",
    "                  # A[n*Nx*Ny+y*Nx+x, n*Nx*Ny+y*Nx+x+1] = -r*1./dx**2\n",
    "                  Ax.append(n*Nx*Ny+y*Nx+x)\n",
    "                  Ay.append(n*Nx*Ny+y*Nx+x+1)\n",
    "                  Av.append(-r*1./dx**2)\n",
    "                  # A[n*Nx*Ny+y*Nx+x, n*Nx*Ny+(y+1)*Nx+x] = -r*1./dy**2\n",
    "                  Ax.append(n*Nx*Ny+y*Nx+x)\n",
    "                  Ay.append(n*Nx*Ny+(y+1)*Nx+x)\n",
    "                  Av.append(-r*1./dy**2)\n",
    "                  # A[n*Nx*Ny+y*Nx+x, n*Nx*Ny+y*Nx+x] = -r*(-2./dt**2 - 2./dx**2 - 2./dy**2) + r*epsilon -r*1./dy**2-r*1./dx**2 +r*1./dt**2\n",
    "                  Ax.append(n*Nx*Ny+y*Nx+x)\n",
    "                  Ay.append(n*Nx*Ny+y*Nx+x)\n",
    "                  Av.append(-r*(-2./dt**2 - 1./dx**2 - 1./dy**2) + r*epsilon -r*1./dt**2)\n",
    "                elif y == Ny-1: # bottom-left corner\n",
    "                  # A[n*Nx*Ny+y*Nx+x, n*Nx*Ny+y*Nx+x+1] = -r*1./dx**2\n",
    "                  Ax.append(n*Nx*Ny+y*Nx+x)\n",
    "                  Ay.append(n*Nx*Ny+y*Nx+x+1)\n",
    "                  Av.append(-r*1./dx**2)\n",
    "                  # A[n*Nx*Ny+y*Nx+x, n*Nx*Ny+(y-1)*Nx+x] = -r*1./dy**2\n",
    "                  Ax.append(n*Nx*Ny+y*Nx+x)\n",
    "                  Ay.append(n*Nx*Ny+(y-1)*Nx+x)\n",
    "                  Av.append(-r*1./dy**2)\n",
    "                  # A[n*Nx*Ny+y*Nx+x, n*Nx*Ny+y*Nx+x] = -r*(-2./dt**2 - 2./dx**2 - 2./dy**2) + r*epsilon -r*1./dy**2 -r*1./dx**2 +r*1./dt**2\n",
    "                  Ax.append(n*Nx*Ny+y*Nx+x)\n",
    "                  Ay.append(n*Nx*Ny+y*Nx+x)\n",
    "                  Av.append(-r*(-2./dt**2 - 1./dx**2 - 1./dy**2) + r*epsilon -r*1./dt**2)\n",
    "                else: # on left but not on corner\n",
    "                  # A[n*Nx*Ny+y*Nx+x, n*Nx*Ny+y*Nx+x+1] = -r*1./dx**2\n",
    "                  Ax.append(n*Nx*Ny+y*Nx+x)\n",
    "                  Ay.append(n*Nx*Ny+y*Nx+x+1)\n",
    "                  Av.append(-r*1./dx**2)\n",
    "                  # A[n*Nx*Ny+y*Nx+x, n*Nx*Ny+(y+1)*Nx+x] = -r*1./dy**2\n",
    "                  Ax.append(n*Nx*Ny+y*Nx+x)\n",
    "                  Ay.append(n*Nx*Ny+(y+1)*Nx+x)\n",
    "                  Av.append(-r*1./dy**2)\n",
    "                  # A[n*Nx*Ny+y*Nx+x, n*Nx*Ny+(y-1)*Nx+x] = -r*1./dy**2\n",
    "                  Ax.append(n*Nx*Ny+y*Nx+x)\n",
    "                  Ay.append(n*Nx*Ny+(y-1)*Nx+x)\n",
    "                  Av.append(-r*1./dy**2)\n",
    "                  # A[n*Nx*Ny+y*Nx+x, n*Nx*Ny+y*Nx+x] = -r*(-2./dt**2 - 2./dx**2 - 2./dy**2) + r*epsilon-r*1./dx**2+r*1./dt**2\n",
    "                  Ax.append(n*Nx*Ny+y*Nx+x)\n",
    "                  Ay.append(n*Nx*Ny+y*Nx+x)\n",
    "                  Av.append(-r*(-2./dt**2 - 1./dx**2 - 2./dy**2) + r*epsilon-r*1./dt**2)\n",
    "              elif x == Nx-1:\n",
    "                if y == 0: # top-right corner\n",
    "                  # A[n*Nx*Ny+y*Nx+x, n*Nx*Ny+y*Nx+x-1] = -r*1./dx**2\n",
    "                  Ax.append(n*Nx*Ny+y*Nx+x)\n",
    "                  Ay.append(n*Nx*Ny+y*Nx+x-1)\n",
    "                  Av.append(-r*1./dx**2)\n",
    "                  # A[n*Nx*Ny+y*Nx+x, n*Nx*Ny+(y+1)*Nx+x] = -r*1./dy**2\n",
    "                  Ax.append(n*Nx*Ny+y*Nx+x)\n",
    "                  Ay.append(n*Nx*Ny+(y+1)*Nx+x)\n",
    "                  Av.append(-r*1./dy**2)\n",
    "                  # A[n*Nx*Ny+y*Nx+x, n*Nx*Ny+y*Nx+x] = -r*(-2./dt**2 - 2./dx**2 - 2./dy**2) + r*epsilon -r*1./dx**2 -r*1./dy**2+r*1./dt**2\n",
    "                  Ax.append(n*Nx*Ny+y*Nx+x)\n",
    "                  Ay.append(n*Nx*Ny+y*Nx+x)\n",
    "                  Av.append(-r*(-2./dt**2 - 1./dx**2 - 1./dy**2) + r*epsilon-r*1./dt**2)\n",
    "                elif y == Ny-1: # bottom-right corner\n",
    "                  # A[n*Nx*Ny+y*Nx+x, n*Nx*Ny+y*Nx+x-1] = -r*1./dx**2\n",
    "                  Ax.append(n*Nx*Ny+y*Nx+x)\n",
    "                  Ay.append(n*Nx*Ny+y*Nx+x-1)\n",
    "                  Av.append(-r*1./dx**2)\n",
    "                  # A[n*Nx*Ny+y*Nx+x, n*Nx*Ny+(y-1)*Nx+x] = -r*1./dy**2\n",
    "                  Ax.append(n*Nx*Ny+y*Nx+x)\n",
    "                  Ay.append(n*Nx*Ny+(y-1)*Nx+x)\n",
    "                  Av.append(-r*1./dy**2)\n",
    "                  # A[n*Nx*Ny+y*Nx+x, n*Nx*Ny+y*Nx+x] = -r*(-2./dt**2 - 2./dx**2 - 2./dy**2) + r*epsilon -r*1./dx**2 -r*1./dy**2+r*1./dt**2\n",
    "                  Ax.append(n*Nx*Ny+y*Nx+x)\n",
    "                  Ay.append(n*Nx*Ny+y*Nx+x)\n",
    "                  Av.append(-r*(-2./dt**2 - 1./dx**2 - 1./dy**2) + r*epsilon -r*1./dt**2)\n",
    "                else: # on right but not on corner\n",
    "                  # A[n*Nx*Ny+y*Nx+x, n*Nx*Ny+y*Nx+x-1] = -r*1./dx**2\n",
    "                  Ax.append(n*Nx*Ny+y*Nx+x)\n",
    "                  Ay.append(n*Nx*Ny+y*Nx+x-1)\n",
    "                  Av.append(-r*1./dx**2)\n",
    "                  # A[n*Nx*Ny+y*Nx+x, n*Nx*Ny+(y+1)*Nx+x] = -r*1./dy**2\n",
    "                  Ax.append(n*Nx*Ny+y*Nx+x)\n",
    "                  Ay.append(n*Nx*Ny+(y+1)*Nx+x)\n",
    "                  Av.append(-r*1./dy**2)\n",
    "                  # A[n*Nx*Ny+y*Nx+x, n*Nx*Ny+(y-1)*Nx+x] = -r*1./dy**2\n",
    "                  Ax.append(n*Nx*Ny+y*Nx+x)\n",
    "                  Ay.append(n*Nx*Ny+(y-1)*Nx+x)\n",
    "                  Av.append(-r*1./dy**2)\n",
    "                  # A[n*Nx*Ny+y*Nx+x, n*Nx*Ny+y*Nx+x] = -r*(-2./dt**2 - 2./dx**2 - 2./dy**2) + r*epsilon -r*1./dx**2+r*1./dt**2\n",
    "                  Ax.append(n*Nx*Ny+y*Nx+x)\n",
    "                  Ay.append(n*Nx*Ny+y*Nx+x)\n",
    "                  Av.append(-r*(-2./dt**2 - 1./dx**2 - 2./dy**2) + r*epsilon -r*1./dt**2)\n",
    "              else:\n",
    "                if y == 0: # on top but not on corner\n",
    "                  # A[n*Nx*Ny+y*Nx+x, n*Nx*Ny+y*Nx+x+1] = -r*1./dx**2\n",
    "                  Ax.append(n*Nx*Ny+y*Nx+x)\n",
    "                  Ay.append(n*Nx*Ny+y*Nx+x+1)\n",
    "                  Av.append(-r*1./dx**2)\n",
    "                  # A[n*Nx*Ny+y*Nx+x, n*Nx*Ny+y*Nx+x-1] = -r*1./dx**2\n",
    "                  Ax.append(n*Nx*Ny+y*Nx+x)\n",
    "                  Ay.append(n*Nx*Ny+y*Nx+x-1)\n",
    "                  Av.append(-r*1./dx**2)\n",
    "                  # A[n*Nx*Ny+y*Nx+x, n*Nx*Ny+(y+1)*Nx+x] = -r*1./dy**2\n",
    "                  Ax.append(n*Nx*Ny+y*Nx+x)\n",
    "                  Ay.append(n*Nx*Ny+(y+1)*Nx+x)\n",
    "                  Av.append(-r*1./dy**2)\n",
    "                  # A[n*Nx*Ny+y*Nx+x, n*Nx*Ny+y*Nx+x] = -r*(-2./dt**2 - 2./dx**2 - 2./dy**2) + r*epsilon-r*1./dy**2+r*1./dt**2\n",
    "                  Ax.append(n*Nx*Ny+y*Nx+x)\n",
    "                  Ay.append(n*Nx*Ny+y*Nx+x)\n",
    "                  Av.append(-r*(-2./dt**2 - 2./dx**2 - 1./dy**2) + r*epsilon-r*1./dt**2)\n",
    "                elif y == Ny-1: # on bottom but not on corner\n",
    "                  # A[n*Nx*Ny+y*Nx+x, n*Nx*Ny+y*Nx+x+1] = -r*1./dx**2\n",
    "                  Ax.append(n*Nx*Ny+y*Nx+x)\n",
    "                  Ay.append(n*Nx*Ny+y*Nx+x+1)\n",
    "                  Av.append(-r*1./dx**2)\n",
    "                  # A[n*Nx*Ny+y*Nx+x, n*Nx*Ny+y*Nx+x-1] = -r*1./dx**2\n",
    "                  Ax.append(n*Nx*Ny+y*Nx+x)\n",
    "                  Ay.append(n*Nx*Ny+y*Nx+x-1)\n",
    "                  Av.append(-r*1./dx**2)\n",
    "                  # A[n*Nx*Ny+y*Nx+x, n*Nx*Ny+(y-1)*Nx+x] = -r*1./dy**2\n",
    "                  Ax.append(n*Nx*Ny+y*Nx+x)\n",
    "                  Ay.append(n*Nx*Ny+(y-1)*Nx+x)\n",
    "                  Av.append(-r*1./dy**2)\n",
    "                  # A[n*Nx*Ny+y*Nx+x, n*Nx*Ny+y*Nx+x] = -r*(-2./dt**2 - 2./dx**2 - 2./dy**2) + r*epsilon -r*1./dy**2+r*1./dt**2\n",
    "                  Ax.append(n*Nx*Ny+y*Nx+x)\n",
    "                  Ay.append(n*Nx*Ny+y*Nx+x)\n",
    "                  Av.append(-r*(-2./dt**2 - 2./dx**2 - 1./dy**2) + r*epsilon -r*1./dt**2)\n",
    "          elif n == Nt-1:\n",
    "            # A[n*Nx*Ny+y*Nx+x, (n-1)*Nx*Ny+y*Nx+x] = -r*1./dt**2\n",
    "            Ax.append(n*Nx*Ny+y*Nx+x)\n",
    "            Ay.append((n-1)*Nx*Ny+y*Nx+x)\n",
    "            Av.append(-r*1./dt**2)\n",
    "\n",
    "            F[n*Nx*Ny+y*Nx+x] = spaceTimeDivSM[n*Nx*Ny+y*Nx+x ] + 1/dt*(nu[y*Nx+x]-gamma[0,(Nt-1)*Nx*Ny+y*Nx+x]+r*q[0,(Nt-1)*Nx*Ny+y*Nx+x])\n",
    "            # Not on space boundaries\n",
    "            if y>=1 and y<Ny-1 and x>=1 and x<Nx-1:\n",
    "              # A[n*Nx*Ny+y*Nx+x, n*Nx*Ny+y*Nx+x+1] = -r*1./dx**2\n",
    "              Ax.append(n*Nx*Ny+y*Nx+x)\n",
    "              Ay.append(n*Nx*Ny+y*Nx+x+1)\n",
    "              Av.append(-r*1./dx**2)\n",
    "              # A[n*Nx*Ny+y*Nx+x, n*Nx*Ny+y*Nx+x-1] = -r*1./dx**2\n",
    "              Ax.append(n*Nx*Ny+y*Nx+x)\n",
    "              Ay.append(n*Nx*Ny+y*Nx+x-1)\n",
    "              Av.append(-r*1./dx**2)\n",
    "              # A[n*Nx*Ny+y*Nx+x, n*Nx*Ny+(y+1)*Nx+x] = -r*1./dy**2\n",
    "              Ax.append(n*Nx*Ny+y*Nx+x)\n",
    "              Ay.append(n*Nx*Ny+(y+1)*Nx+x)\n",
    "              Av.append(-r*1./dy**2)\n",
    "              # A[n*Nx*Ny+y*Nx+x, n*Nx*Ny+(y-1)*Nx+x] = -r*1./dy**2\n",
    "              Ax.append(n*Nx*Ny+y*Nx+x)\n",
    "              Ay.append(n*Nx*Ny+(y-1)*Nx+x)\n",
    "              Av.append(-r*1./dy**2)\n",
    "              # A[n*Nx*Ny+y*Nx+x, n*Nx*Ny+y*Nx+x] = -r*(-2./dt**2 - 2./dx**2 - 2./dy**2) + r*epsilon +r*1./dt**2\n",
    "              Ax.append(n*Nx*Ny+y*Nx+x)\n",
    "              Ay.append(n*Nx*Ny+y*Nx+x)\n",
    "              Av.append(-r*(-2./dt**2 - 2./dx**2 - 2./dy**2) + r*epsilon -r*1./dt**2)\n",
    "            else:\n",
    "              if x == 0:\n",
    "                if y == 0: # top-left corner\n",
    "                  # A[n*Nx*Ny+y*Nx+x, n*Nx*Ny+y*Nx+x+1] = -r*1./dx**2\n",
    "                  Ax.append(n*Nx*Ny+y*Nx+x)\n",
    "                  Ay.append(n*Nx*Ny+y*Nx+x+1)\n",
    "                  Av.append(-r*1./dx**2)\n",
    "                  # A[n*Nx*Ny+y*Nx+x, n*Nx*Ny+(y+1)*Nx+x] = -r*1./dy**2\n",
    "                  Ax.append(n*Nx*Ny+y*Nx+x)\n",
    "                  Ay.append(n*Nx*Ny+(y+1)*Nx+x)\n",
    "                  Av.append(-r*1./dy**2)\n",
    "                  # A[n*Nx*Ny+y*Nx+x, n*Nx*Ny+y*Nx+x] = -r*(-2./dt**2 - 2./dx**2 - 2./dy**2) + r*epsilon -r*1./dx**2-r*1./dy**2+r*1./dt**2\n",
    "                  Ax.append(n*Nx*Ny+y*Nx+x)\n",
    "                  Ay.append(n*Nx*Ny+y*Nx+x)\n",
    "                  Av.append(-r*(-2./dt**2 - 1./dx**2 - 1./dy**2) + r*epsilon -r*1./dt**2)\n",
    "                elif y == Ny-1: # bottom-left corner\n",
    "                  # A[n*Nx*Ny+y*Nx+x, n*Nx*Ny+y*Nx+x+1] = -r*1./dx**2\n",
    "                  Ax.append(n*Nx*Ny+y*Nx+x)\n",
    "                  Ay.append(n*Nx*Ny+y*Nx+x+1)\n",
    "                  Av.append(-r*1./dx**2)\n",
    "                  # A[n*Nx*Ny+y*Nx+x, n*Nx*Ny+(y-1)*Nx+x] = -r*1./dy**2\n",
    "                  Ax.append(n*Nx*Ny+y*Nx+x)\n",
    "                  Ay.append(n*Nx*Ny+(y-1)*Nx+x)\n",
    "                  Av.append(-r*1./dy**2)\n",
    "                  # A[n*Nx*Ny+y*Nx+x, n*Nx*Ny+y*Nx+x] = -r*(-2./dt**2 - 2./dx**2 - 2./dy**2) + r*epsilon-r*1./dx**2 -r*1./dy**2+r*1./dt**2\n",
    "                  Ax.append(n*Nx*Ny+y*Nx+x)\n",
    "                  Ay.append(n*Nx*Ny+y*Nx+x)\n",
    "                  Av.append(-r*(-2./dt**2 - 1./dx**2 - 1./dy**2) + r*epsilon-r*1./dt**2)\n",
    "                else: # on left but not on corner\n",
    "                  # A[n*Nx*Ny+y*Nx+x, n*Nx*Ny+y*Nx+x+1] = -r*1./dx**2\n",
    "                  Ax.append(n*Nx*Ny+y*Nx+x)\n",
    "                  Ay.append(n*Nx*Ny+y*Nx+x+1)\n",
    "                  Av.append(-r*1./dx**2)\n",
    "                  # A[n*Nx*Ny+y*Nx+x, n*Nx*Ny+(y+1)*Nx+x] = -r*1./dy**2\n",
    "                  Ax.append(n*Nx*Ny+y*Nx+x)\n",
    "                  Ay.append(n*Nx*Ny+(y+1)*Nx+x)\n",
    "                  Av.append(-r*1./dy**2)\n",
    "                  # A[n*Nx*Ny+y*Nx+x, n*Nx*Ny+(y-1)*Nx+x] = -r*1./dy**2\n",
    "                  Ax.append(n*Nx*Ny+y*Nx+x)\n",
    "                  Ay.append(n*Nx*Ny+(y-1)*Nx+x)\n",
    "                  Av.append(-r*1./dy**2)\n",
    "                  # A[n*Nx*Ny+y*Nx+x, n*Nx*Ny+y*Nx+x] = -r*(-2./dt**2 - 2./dx**2 - 2./dy**2) + r*epsilon-r*1./dx**2 +r*1./dt**2\n",
    "                  Ax.append(n*Nx*Ny+y*Nx+x)\n",
    "                  Ay.append(n*Nx*Ny+y*Nx+x)\n",
    "                  Av.append(-r*(-2./dt**2 - 1./dx**2 - 2./dy**2) + r*epsilon -r*1./dt**2)\n",
    "              elif x == Nx-1:\n",
    "                if y == 0: # top-right corner\n",
    "                  # A[n*Nx*Ny+y*Nx+x, n*Nx*Ny+y*Nx+x-1] = -r*1./dx**2\n",
    "                  Ax.append(n*Nx*Ny+y*Nx+x)\n",
    "                  Ay.append(n*Nx*Ny+y*Nx+x-1)\n",
    "                  Av.append(-r*1./dx**2)\n",
    "                  # A[n*Nx*Ny+y*Nx+x, n*Nx*Ny+(y+1)*Nx+x] = -r*1./dy**2\n",
    "                  Ax.append(n*Nx*Ny+y*Nx+x)\n",
    "                  Ay.append(n*Nx*Ny+(y+1)*Nx+x)\n",
    "                  Av.append(-r*1./dy**2)\n",
    "                  # A[n*Nx*Ny+y*Nx+x, n*Nx*Ny+y*Nx+x] = -r*(-2./dt**2 - 2./dx**2 - 2./dy**2) + r*epsilon -r*1./dy**2 -r*1./dx**2+r*1./dt**2\n",
    "                  Ax.append(n*Nx*Ny+y*Nx+x)\n",
    "                  Ay.append(n*Nx*Ny+y*Nx+x)\n",
    "                  Av.append(-r*(-2./dt**2 - 1./dx**2 - 1./dy**2) + r*epsilon -r*1./dt**2)\n",
    "                elif y == Ny-1: # bottom-right corner\n",
    "                  # A[n*Nx*Ny+y*Nx+x, n*Nx*Ny+y*Nx+x-1] = -r*1./dx**2\n",
    "                  Ax.append(n*Nx*Ny+y*Nx+x)\n",
    "                  Ay.append(n*Nx*Ny+y*Nx+x-1)\n",
    "                  Av.append(-r*1./dx**2)\n",
    "                  # A[n*Nx*Ny+y*Nx+x, n*Nx*Ny+(y-1)*Nx+x] = -r*1./dy**2\n",
    "                  Ax.append(n*Nx*Ny+y*Nx+x)\n",
    "                  Ay.append(n*Nx*Ny+(y-1)*Nx+x)\n",
    "                  Av.append(-r*1./dy**2)\n",
    "                  # A[n*Nx*Ny+y*Nx+x, n*Nx*Ny+y*Nx+x] = -r*(-2./dt**2 - 2./dx**2 - 2./dy**2) + r*epsilon -r*1./dy**2 -r*1./dx**2+r*1./dt**2\n",
    "                  Ax.append(n*Nx*Ny+y*Nx+x)\n",
    "                  Ay.append(n*Nx*Ny+y*Nx+x)\n",
    "                  Av.append(-r*(-2./dt**2 - 1./dx**2 - 1./dy**2) + r*epsilon -r*1./dt**2)\n",
    "                else: # on right but not on corner\n",
    "                  # A[n*Nx*Ny+y*Nx+x, n*Nx*Ny+y*Nx+x-1] = -r*1./dx**2\n",
    "                  Ax.append(n*Nx*Ny+y*Nx+x)\n",
    "                  Ay.append(n*Nx*Ny+y*Nx+x-1)\n",
    "                  Av.append(-r*1./dx**2)\n",
    "                  # A[n*Nx*Ny+y*Nx+x, n*Nx*Ny+(y+1)*Nx+x] = -r*1./dy**2\n",
    "                  Ax.append(n*Nx*Ny+y*Nx+x)\n",
    "                  Ay.append(n*Nx*Ny+(y+1)*Nx+x)\n",
    "                  Av.append(-r*1./dy**2)\n",
    "                  # A[n*Nx*Ny+y*Nx+x, n*Nx*Ny+(y-1)*Nx+x] = -r*1./dy**2\n",
    "                  Ax.append(n*Nx*Ny+y*Nx+x)\n",
    "                  Ay.append(n*Nx*Ny+(y-1)*Nx+x)\n",
    "                  Av.append(-r*1./dy**2)\n",
    "                  # A[n*Nx*Ny+y*Nx+x, n*Nx*Ny+y*Nx+x] = -r*(-2./dt**2 - 2./dx**2 - 2./dy**2) + r*epsilon -r*1./dx**2 +r*1./dt**2\n",
    "                  Ax.append(n*Nx*Ny+y*Nx+x)\n",
    "                  Ay.append(n*Nx*Ny+y*Nx+x)\n",
    "                  Av.append(-r*(-2./dt**2 - 1./dx**2 - 2./dy**2) + r*epsilon -r*1./dt**2)\n",
    "              else:\n",
    "                if y == 0: # on top but not on corner\n",
    "                  # A[n*Nx*Ny+y*Nx+x, n*Nx*Ny+y*Nx+x+1] = -r*1./dx**2\n",
    "                  Ax.append(n*Nx*Ny+y*Nx+x)\n",
    "                  Ay.append(n*Nx*Ny+y*Nx+x+1)\n",
    "                  Av.append(-r*1./dx**2)\n",
    "                  # A[n*Nx*Ny+y*Nx+x, n*Nx*Ny+y*Nx+x-1] = -r*1./dx**2\n",
    "                  Ax.append(n*Nx*Ny+y*Nx+x)\n",
    "                  Ay.append(n*Nx*Ny+y*Nx+x-1)\n",
    "                  Av.append(-r*1./dx**2)\n",
    "                  # A[n*Nx*Ny+y*Nx+x, n*Nx*Ny+(y+1)*Nx+x] = -r*1./dy**2\n",
    "                  Ax.append(n*Nx*Ny+y*Nx+x)\n",
    "                  Ay.append(n*Nx*Ny+(y+1)*Nx+x)\n",
    "                  Av.append(-r*1./dy**2)\n",
    "                  # A[n*Nx*Ny+y*Nx+x, n*Nx*Ny+y*Nx+x] = -r*(-2./dt**2 - 2./dx**2 - 2./dy**2) + r*epsilon -r*1./dy**2 +r*1./dt**2\n",
    "                  Ax.append(n*Nx*Ny+y*Nx+x)\n",
    "                  Ay.append(n*Nx*Ny+y*Nx+x)\n",
    "                  Av.append(-r*(-2./dt**2 - 2./dx**2 - 1./dy**2) + r*epsilon -r*1./dt**2)\n",
    "                elif y == Ny-1: # on bottom but not on corner\n",
    "                  # A[n*Nx*Ny+y*Nx+x, n*Nx*Ny+y*Nx+x+1] = -r*1./dx**2\n",
    "                  Ax.append(n*Nx*Ny+y*Nx+x)\n",
    "                  Ay.append(n*Nx*Ny+y*Nx+x+1)\n",
    "                  Av.append(-r*1./dx**2)\n",
    "                  # A[n*Nx*Ny+y*Nx+x, n*Nx*Ny+y*Nx+x-1] = -r*1./dx**2\n",
    "                  Ax.append(n*Nx*Ny+y*Nx+x)\n",
    "                  Ay.append(n*Nx*Ny+y*Nx+x-1)\n",
    "                  Av.append(-r*1./dx**2)\n",
    "                  # A[n*Nx*Ny+y*Nx+x, n*Nx*Ny+(y-1)*Nx+x] = -r*1./dy**2\n",
    "                  Ax.append(n*Nx*Ny+y*Nx+x)\n",
    "                  Ay.append(n*Nx*Ny+(y-1)*Nx+x)\n",
    "                  Av.append(-r*1./dy**2)\n",
    "                  # A[n*Nx*Ny+y*Nx+x, n*Nx*Ny+y*Nx+x] = -r*(-2./dt**2 - 2./dx**2 - 2./dy**2) + r*epsilon-r*1./dy**2 +r*1./dt**2\n",
    "                  Ax.append(n*Nx*Ny+y*Nx+x)\n",
    "                  Ay.append(n*Nx*Ny+y*Nx+x)\n",
    "                  Av.append(-r*(-2./dt**2 - 2./dx**2 - 1./dy**2) + r*epsilon -r*1./dt**2)\n",
    "          else:\n",
    "            # not on time boundaries\n",
    "            F[n*Nx*Ny+y*Nx+x] = spaceTimeDivSM[n*Nx*Ny+y*Nx+x]\n",
    "            # A[n*Nx*Ny+y*Nx+x, (n+1)*Nx*Ny+y*Nx+x] = -r*1./dt**2\n",
    "            Ax.append(n*Nx*Ny+y*Nx+x)\n",
    "            Ay.append((n+1)*Nx*Ny+y*Nx+x)\n",
    "            Av.append(-r*1./dt**2)\n",
    "            # A[n*Nx*Ny+y*Nx+x, (n-1)*Nx*Ny+y*Nx+x] = -r*1./dt**2\n",
    "            Ax.append(n*Nx*Ny+y*Nx+x)\n",
    "            Ay.append((n-1)*Nx*Ny+y*Nx+x)\n",
    "            Av.append(-r*1./dt**2)\n",
    "            if x == 0:\n",
    "              if y == 0: # top-left corner\n",
    "                # A[n*Nx*Ny+y*Nx+x, n*Nx*Ny+y*Nx+x+1] = -r*1./dx**2\n",
    "                Ax.append(n*Nx*Ny+y*Nx+x)\n",
    "                Ay.append(n*Nx*Ny+y*Nx+x+1)\n",
    "                Av.append(-r*1./dx**2)\n",
    "                # A[n*Nx*Ny+y*Nx+x, n*Nx*Ny+(y+1)*Nx+x] = -r*1./dy**2\n",
    "                Ax.append(n*Nx*Ny+y*Nx+x)\n",
    "                Ay.append(n*Nx*Ny+(y+1)*Nx+x)\n",
    "                Av.append(-r*1./dy**2)\n",
    "                # A[n*Nx*Ny+y*Nx+x, n*Nx*Ny+y*Nx+x] = -r*(-2./dt**2 - 2./dx**2 - 2./dy**2) + r*epsilon -r*1./dy**2-r*1./dx**2\n",
    "                Ax.append(n*Nx*Ny+y*Nx+x)\n",
    "                Ay.append(n*Nx*Ny+y*Nx+x)\n",
    "                Av.append(-r*(-2./dt**2 - 1./dx**2 - 1./dy**2) + r*epsilon)\n",
    "              elif y == Ny-1: # bottom-left corner\n",
    "                # A[n*Nx*Ny+y*Nx+x, n*Nx*Ny+y*Nx+x+1] = -r*1./dx**2\n",
    "                Ax.append(n*Nx*Ny+y*Nx+x)\n",
    "                Ay.append(n*Nx*Ny+y*Nx+x+1)\n",
    "                Av.append(-r*1./dx**2)\n",
    "                # A[n*Nx*Ny+y*Nx+x, n*Nx*Ny+(y-1)*Nx+x] = -r*1./dy**2\n",
    "                Ax.append(n*Nx*Ny+y*Nx+x)\n",
    "                Ay.append(n*Nx*Ny+(y-1)*Nx+x)\n",
    "                Av.append(-r*1./dy**2)\n",
    "                # A[n*Nx*Ny+y*Nx+x, n*Nx*Ny+y*Nx+x] = -r*(-2./dt**2 - 2./dx**2 - 2./dy**2) + r*epsilon -r*1./dy**2 -r*1./dx**2\n",
    "                Ax.append(n*Nx*Ny+y*Nx+x)\n",
    "                Ay.append(n*Nx*Ny+y*Nx+x)\n",
    "                Av.append(-r*(-2./dt**2 - 1./dx**2 - 1./dy**2) + r*epsilon)\n",
    "              else: # on left but not on corner\n",
    "                # A[n*Nx*Ny+y*Nx+x, n*Nx*Ny+y*Nx+x+1] = -r*1./dx**2\n",
    "                Ax.append(n*Nx*Ny+y*Nx+x)\n",
    "                Ay.append(n*Nx*Ny+y*Nx+x+1)\n",
    "                Av.append(-r*1./dx**2)\n",
    "                # A[n*Nx*Ny+y*Nx+x, n*Nx*Ny+(y+1)*Nx+x] = -r*1./dy**2\n",
    "                Ax.append(n*Nx*Ny+y*Nx+x)\n",
    "                Ay.append(n*Nx*Ny+(y+1)*Nx+x)\n",
    "                Av.append(-r*1./dy**2)\n",
    "                # A[n*Nx*Ny+y*Nx+x, n*Nx*Ny+(y-1)*Nx+x] = -r*1./dy**2\n",
    "                Ax.append(n*Nx*Ny+y*Nx+x)\n",
    "                Ay.append(n*Nx*Ny+(y-1)*Nx+x)\n",
    "                Av.append(-r*1./dy**2)\n",
    "                # A[n*Nx*Ny+y*Nx+x, n*Nx*Ny+y*Nx+x] = -r*(-2./dt**2 - 2./dx**2 - 2./dy**2) + r*epsilon-r*1./dx**2\n",
    "                Ax.append(n*Nx*Ny+y*Nx+x)\n",
    "                Ay.append(n*Nx*Ny+y*Nx+x)\n",
    "                Av.append(-r*(-2./dt**2 - 1./dx**2 - 2./dy**2) + r*epsilon)\n",
    "            elif x == Nx-1:\n",
    "              if y == 0: # top-right corner\n",
    "                # A[n*Nx*Ny+y*Nx+x, n*Nx*Ny+y*Nx+x-1] = -r*1./dx**2\n",
    "                Ax.append(n*Nx*Ny+y*Nx+x)\n",
    "                Ay.append(n*Nx*Ny+y*Nx+x-1)\n",
    "                Av.append(-r*1./dx**2)\n",
    "                # A[n*Nx*Ny+y*Nx+x, n*Nx*Ny+(y+1)*Nx+x] = -r*1./dy**2\n",
    "                Ax.append(n*Nx*Ny+y*Nx+x)\n",
    "                Ay.append(n*Nx*Ny+(y+1)*Nx+x)\n",
    "                Av.append(-r*1./dy**2)\n",
    "                # A[n*Nx*Ny+y*Nx+x, n*Nx*Ny+y*Nx+x] = -r*(-2./dt**2 - 2./dx**2 - 2./dy**2) + r*epsilon -r*1./dy**2 -r*1./dx**2\n",
    "                Ax.append(n*Nx*Ny+y*Nx+x)\n",
    "                Ay.append(n*Nx*Ny+y*Nx+x)\n",
    "                Av.append(-r*(-2./dt**2 - 1./dx**2 - 1./dy**2) + r*epsilon)\n",
    "              elif y == Ny-1: # bottom-right corner\n",
    "                # A[n*Nx*Ny+y*Nx+x, n*Nx*Ny+y*Nx+x-1] = -r*1./dx**2\n",
    "                Ax.append(n*Nx*Ny+y*Nx+x)\n",
    "                Ay.append(n*Nx*Ny+y*Nx+x-1)\n",
    "                Av.append(-r*1./dx**2)\n",
    "                # A[n*Nx*Ny+y*Nx+x, n*Nx*Ny+(y-1)*Nx+x] = -r*1./dy**2\n",
    "                Ax.append(n*Nx*Ny+y*Nx+x)\n",
    "                Ay.append(n*Nx*Ny+(y-1)*Nx+x)\n",
    "                Av.append(-r*1./dy**2)\n",
    "                # A[n*Nx*Ny+y*Nx+x, n*Nx*Ny+y*Nx+x] = -r*(-2./dt**2 - 2./dx**2 - 2./dy**2) + r*epsilon -r*1./dy**2 -r*1./dx**2\n",
    "                Ax.append(n*Nx*Ny+y*Nx+x)\n",
    "                Ay.append(n*Nx*Ny+y*Nx+x)\n",
    "                Av.append(-r*(-2./dt**2 - 1./dx**2 - 1./dy**2) + r*epsilon)\n",
    "              else: # on right but not on corner\n",
    "                # A[n*Nx*Ny+y*Nx+x, n*Nx*Ny+y*Nx+x-1] = -r*1./dx**2\n",
    "                Ax.append(n*Nx*Ny+y*Nx+x)\n",
    "                Ay.append(n*Nx*Ny+y*Nx+x-1)\n",
    "                Av.append(-r*1./dx**2)\n",
    "                # A[n*Nx*Ny+y*Nx+x, n*Nx*Ny+(y+1)*Nx+x] = -r*1./dy**2\n",
    "                Ax.append(n*Nx*Ny+y*Nx+x)\n",
    "                Ay.append(n*Nx*Ny+(y+1)*Nx+x)\n",
    "                Av.append(-r*1./dy**2)\n",
    "                # A[n*Nx*Ny+y*Nx+x, n*Nx*Ny+(y-1)*Nx+x] = -r*1./dy**2\n",
    "                Ax.append(n*Nx*Ny+y*Nx+x)\n",
    "                Ay.append(n*Nx*Ny+(y-1)*Nx+x)\n",
    "                Av.append(-r*1./dy**2)\n",
    "                # A[n*Nx*Ny+y*Nx+x, n*Nx*Ny+y*Nx+x] = -r*(-2./dt**2 - 2./dx**2 - 2./dy**2) + r*epsilon -r*1./dx**2\n",
    "                Ax.append(n*Nx*Ny+y*Nx+x)\n",
    "                Ay.append(n*Nx*Ny+y*Nx+x)\n",
    "                Av.append(-r*(-2./dt**2 - 1./dx**2 - 2./dy**2) + r*epsilon)\n",
    "            else:\n",
    "              if y == 0: # on top but not on corner\n",
    "                # A[n*Nx*Ny+y*Nx+x, n*Nx*Ny+y*Nx+x+1] = -r*1./dx**2\n",
    "                Ax.append(n*Nx*Ny+y*Nx+x)\n",
    "                Ay.append(n*Nx*Ny+y*Nx+x+1)\n",
    "                Av.append(-r*1./dx**2)\n",
    "                # A[n*Nx*Ny+y*Nx+x, n*Nx*Ny+y*Nx+x-1] = -r*1./dx**2\n",
    "                Ax.append(n*Nx*Ny+y*Nx+x)\n",
    "                Ay.append(n*Nx*Ny+y*Nx+x-1)\n",
    "                Av.append(-r*1./dx**2)\n",
    "                # A[n*Nx*Ny+y*Nx+x, n*Nx*Ny+(y+1)*Nx+x] = -r*1./dy**2\n",
    "                Ax.append(n*Nx*Ny+y*Nx+x)\n",
    "                Ay.append(n*Nx*Ny+(y+1)*Nx+x)\n",
    "                Av.append(-r*1./dy**2)\n",
    "                # A[n*Nx*Ny+y*Nx+x, n*Nx*Ny+y*Nx+x] = -r*(-2./dt**2 - 2./dx**2 - 2./dy**2) + r*epsilon -r*1./dy**2\n",
    "                Ax.append(n*Nx*Ny+y*Nx+x)\n",
    "                Ay.append(n*Nx*Ny+y*Nx+x)\n",
    "                Av.append(-r*(-2./dt**2 - 2./dx**2 - 1./dy**2) + r*epsilon)\n",
    "              elif y == Ny-1: # on bottom but not on corner\n",
    "                # A[n*Nx*Ny+y*Nx+x, n*Nx*Ny+y*Nx+x+1] = -r*1./dx**2\n",
    "                Ax.append(n*Nx*Ny+y*Nx+x)\n",
    "                Ay.append(n*Nx*Ny+y*Nx+x+1)\n",
    "                Av.append(-r*1./dx**2)\n",
    "                # A[n*Nx*Ny+y*Nx+x, n*Nx*Ny+y*Nx+x-1] = -r*1./dx**2\n",
    "                Ax.append(n*Nx*Ny+y*Nx+x)\n",
    "                Ay.append(n*Nx*Ny+y*Nx+x-1)\n",
    "                Av.append(-r*1./dx**2)\n",
    "                # A[n*Nx*Ny+y*Nx+x, n*Nx*Ny+(y-1)*Nx+x] = -r*1./dy**2\n",
    "                Ax.append(n*Nx*Ny+y*Nx+x)\n",
    "                Ay.append(n*Nx*Ny+(y-1)*Nx+x)\n",
    "                Av.append(-r*1./dy**2)\n",
    "                # A[n*Nx*Ny+y*Nx+x, n*Nx*Ny+y*Nx+x] = -r*(-2./dt**2 - 2./dx**2 - 2./dy**2) + r*epsilon -r*1./dy**2\n",
    "                Ax.append(n*Nx*Ny+y*Nx+x)\n",
    "                Ay.append(n*Nx*Ny+y*Nx+x)\n",
    "                Av.append(-r*(-2./dt**2 - 2./dx**2 - 1./dy**2) + r*epsilon)\n",
    "\n",
    "  A = sparse.csr_matrix((Av, (Ax, Ay)), shape=[Nt*Nx*Ny, Nt*Nx*Ny])\n",
    "  return linsolve.spsolve(A, F)"
   ]
  },
  {
   "cell_type": "markdown",
   "metadata": {
    "id": "oqffqhtlxe-V"
   },
   "source": [
    "## Etape 2"
   ]
  },
  {
   "cell_type": "code",
   "execution_count": 5,
   "metadata": {
    "id": "BXVG_5R-xi9e"
   },
   "outputs": [],
   "source": [
    "def step2(p):\n",
    "  a = np.zeros(Nt*Nx*Ny)\n",
    "  b1 = np.zeros(Nt*Nx*Ny)\n",
    "  b2 = np.zeros(Nt*Nx*Ny)\n",
    "\n",
    "  for i in range(Nt*Nx*Ny):\n",
    "    alpha = p[0,i]\n",
    "    beta1 = p[1,i]\n",
    "    beta2 = p[2,i]\n",
    "\n",
    "    if 2*alpha + beta1**2 + beta2**2 <= 0:\n",
    "      a[i] = alpha\n",
    "      b1[i] = beta1\n",
    "      b2[i] = beta2\n",
    "    else:\n",
    "      # on passe (alpha, beta1, beta2) en coordonnées cylindriques (alpha, rho, theta)\n",
    "      rho = np.sqrt(beta1**2 + beta2**2)\n",
    "      theta = np.arctan2(beta2, beta1)\n",
    "\n",
    "      if -32*(alpha+1)**3-108*rho**2 < 0:\n",
    "        # print(\"racine unique\")\n",
    "        zh = -1/3*(alpha + 1)/np.power(1/4*np.sqrt(2)*rho + 1/6*np.sqrt(4/3*alpha**3 + 4*alpha**2 + 9/2*rho**2 + 4*alpha + 4/3), 1/3)\n",
    "        zh = zh + np.power(1/4*np.sqrt(2)*rho + 1/6*np.sqrt(4/3*alpha**3 + 4*alpha**2 + 9/2*rho**2 + 4*alpha + 4/3), 1/3)\n",
    "        alphaH = -zh**2\n",
    "        rhoH = np.sqrt(2)*zh\n",
    "      else:\n",
    "        # print(\"racine triple\")\n",
    "        zh = 2*np.sqrt(2/3)*np.sqrt(-alpha-1)*np.cos(1/3*np.arccos(np.power(3/2, 3/2)*rho/np.power(-alpha-1, 3/2)))\n",
    "        alphaH = -0.5*zh**2\n",
    "        rhoH = zh\n",
    "\n",
    "      # on passe (alphaH, rhoH, theta) en coordonnées carthésiennes (alphaH, beta1H, beta2H)\n",
    "      beta1H = rhoH*np.cos(theta)\n",
    "      beta2H = rhoH*np.sin(theta)\n",
    "\n",
    "      a[i] = alphaH\n",
    "      b1[i] = beta1H\n",
    "      b2[i] = beta2H\n",
    "\n",
    "  return np.array([a, b1, b2])"
   ]
  },
  {
   "cell_type": "markdown",
   "metadata": {
    "id": "1IraBs2Oxk_9"
   },
   "source": [
    "## Algorithme d'Uzawa"
   ]
  },
  {
   "cell_type": "markdown",
   "metadata": {
    "id": "G834W83AzJMP"
   },
   "source": [
    "### Données"
   ]
  },
  {
   "cell_type": "code",
   "execution_count": 18,
   "metadata": {
    "colab": {
     "base_uri": "https://localhost:8080/",
     "height": 843
    },
    "id": "WJmk7j8qzObk",
    "outputId": "92d9f650-3565-4728-b265-0d865fb79440"
   },
   "outputs": [
    {
     "data": {
      "image/png": "[encoded data removed]",
      "text/plain": [
       "<Figure size 640x480 with 1 Axes>"
      ]
     },
     "metadata": {},
     "output_type": "display_data"
    },
    {
     "data": {
      "image/png": "[encoded data removed]",
      "text/plain": [
       "<Figure size 640x480 with 1 Axes>"
      ]
     },
     "metadata": {},
     "output_type": "display_data"
    }
   ],
   "source": [
    "import numpy as np\n",
    "import matplotlib.pyplot as plt\n",
    "\n",
    "Nt = 32\n",
    "Nx = 32\n",
    "Ny = 32\n",
    "\n",
    "mu = np.zeros(Nx*Ny)\n",
    "nu = np.zeros(Nx*Ny)\n",
    "\n",
    "for i in range(int(0.1*Ny), int(0.4*Ny)):\n",
    "  for j in range(int(0.1*Nx), int(0.4*Nx)):\n",
    "    mu[i*Nx+j] = 1\n",
    "\n",
    "for i in range(int(0.6*Ny), int(0.9*Ny)):\n",
    "  for j in range(int(0.6*Nx), int(0.9*Nx)):\n",
    "    nu[i*Nx+j] = 1\n",
    "\n",
    "plt.imshow(mu.reshape([Ny,Nx]), cmap='gray', vmin=0, vmax=1)\n",
    "plt.show()\n",
    "plt.imshow(nu.reshape([Ny,Nx]), cmap='gray', vmin=0, vmax=1)\n",
    "plt.show()"
   ]
  },
  {
   "cell_type": "markdown",
   "metadata": {
    "id": "a6X3_Q4izLIW"
   },
   "source": [
    "### Résolution"
   ]
  },
  {
   "cell_type": "code",
   "execution_count": null,
   "metadata": {
    "colab": {
     "base_uri": "https://localhost:8080/"
    },
    "id": "h19TmvnCxs4W",
    "outputId": "ba81b20e-5e00-4fe7-afe5-4f0c45881866"
   },
   "outputs": [
    {
     "name": "stderr",
     "output_type": "stream",
     "text": [
      "/run/user/1000/app/org.jupyter.JupyterLab/ipykernel_213/3204273823.py:2: DeprecationWarning: `scipy.sparse.linalg.dsolve.linsolve` is deprecated along with the `scipy.sparse.linalg.dsolve` namespace. `scipy.sparse.linalg.dsolve.linsolve` will be removed in SciPy 1.14.0, and the `scipy.sparse.linalg.dsolve` namespace will be removed in SciPy 2.0.0.\n",
      "  from scipy.sparse.linalg.dsolve import linsolve\n"
     ]
    },
    {
     "name": "stdout",
     "output_type": "stream",
     "text": [
      "2.556399031746419\n"
     ]
    }
   ],
   "source": [
    "from scipy import sparse\n",
    "from scipy.sparse.linalg.dsolve import linsolve\n",
    "\n",
    "r = 1\n",
    "qPrev = np.zeros([3, Nt*Nx*Ny]) # = [a, b] \\to\\R^3\n",
    "gamma = np.zeros([3, Nt*Nx*Ny]) # = [rho, m] m\\to \\R^2\n",
    "\n",
    "while True:\n",
    "  # step 1\n",
    "  phi = step1(gamma, qPrev, mu, nu)\n",
    "  # step 2\n",
    "  spaceTimeGradPhi = spaceTimeGrad(phi)\n",
    "  q = step2(spaceTimeGradPhi + 1./r*gamma)\n",
    "  # step 3\n",
    "  gammaNext = gamma + r*( spaceTimeGradPhi - q )\n",
    "\n",
    "  qPrev = q\n",
    "  gamma = gammaNext\n",
    "\n",
    "  # Stop criterion\n",
    "  res = spaceTimeGradPhi[0,:] + 0.5*(np.power(spaceTimeGradPhi[1,:], 2) + np.power(spaceTimeGradPhi[2,:], 2) )\n",
    "  crit = np.sqrt( np.sum( np.multiply(gamma[0,:], np.abs(res))) / np.sum( np.multiply(gamma[0,:], np.power(spaceTimeGradPhi[1,:], 2) + np.power(spaceTimeGradPhi[2,:], 2) )) )\n",
    "  print(crit)\n",
    "\n",
    "  if crit <= 0.1:\n",
    "    break"
   ]
  },
  {
   "cell_type": "markdown",
   "metadata": {
    "id": "wTI5tg1FzUd-"
   },
   "source": [
    "### Affichage"
   ]
  },
  {
   "cell_type": "code",
   "execution_count": 17,
   "metadata": {
    "colab": {
     "base_uri": "https://localhost:8080/",
     "height": 1000
    },
    "id": "FXV7jf69zV92",
    "outputId": "e8f92781-814f-4067-ebb6-16a55860b291"
   },
   "outputs": [
    {
     "data": {
      "image/png": "[encoded data removed]",
      "text/plain": [
       "<Figure size 640x480 with 2 Axes>"
      ]
     },
     "metadata": {},
     "output_type": "display_data"
    },
    {
     "data": {
      "image/png": "[encoded data removed]",
      "text/plain": [
       "<Figure size 640x480 with 2 Axes>"
      ]
     },
     "metadata": {},
     "output_type": "display_data"
    },
    {
     "data": {
      "image/png": "[encoded data removed]",
      "text/plain": [
       "<Figure size 640x480 with 2 Axes>"
      ]
     },
     "metadata": {},
     "output_type": "display_data"
    },
    {
     "data": {
      "image/png": "[encoded data removed]",
      "text/plain": [
       "<Figure size 640x480 with 2 Axes>"
      ]
     },
     "metadata": {},
     "output_type": "display_data"
    },
    {
     "data": {
      "image/png": "[encoded data removed]",
      "text/plain": [
       "<Figure size 640x480 with 2 Axes>"
      ]
     },
     "metadata": {},
     "output_type": "display_data"
    },
    {
     "data": {
      "image/png": "[encoded data removed]",
      "text/plain": [
       "<Figure size 640x480 with 2 Axes>"
      ]
     },
     "metadata": {},
     "output_type": "display_data"
    },
    {
     "data": {
      "image/png": "[encoded data removed]",
      "text/plain": [
       "<Figure size 640x480 with 2 Axes>"
      ]
     },
     "metadata": {},
     "output_type": "display_data"
    },
    {
     "data": {
      "image/png": "[encoded data removed]",
      "text/plain": [
       "<Figure size 640x480 with 2 Axes>"
      ]
     },
     "metadata": {},
     "output_type": "display_data"
    }
   ],
   "source": [
    "for n in range(Nt):\n",
    "  xn = np.zeros(Nx*Ny)\n",
    "  for i in range(Nx*Ny):\n",
    "    xn[i] = gamma[0, n*Nx*Ny + i]\n",
    "\n",
    "  fig = plt.figure()\n",
    "  ax = fig.add_subplot(111)\n",
    "  im = ax.imshow(xn.reshape([Ny,Nx]), cmap='gray', vmin=0, vmax=1)\n",
    "  fig.colorbar(im)\n",
    "  plt.show()"
   ]
  }
 ],
 "metadata": {
  "colab": {
   "provenance": []
  },
  "kernelspec": {
   "display_name": "Python 3 (ipykernel)",
   "language": "python",
   "name": "python3"
  },
  "language_info": {
   "codemirror_mode": {
    "name": "ipython",
    "version": 3
   },
   "file_extension": ".py",
   "mimetype": "text/x-python",
   "name": "python",
   "nbconvert_exporter": "python",
   "pygments_lexer": "ipython3",
   "version": "3.12.3"
  }
 },
 "nbformat": 4,
 "nbformat_minor": 4
}
